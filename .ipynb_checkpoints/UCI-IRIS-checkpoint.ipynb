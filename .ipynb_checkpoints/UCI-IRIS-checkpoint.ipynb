{
 "cells": [
  {
   "cell_type": "code",
   "execution_count": 29,
   "metadata": {
    "collapsed": false
   },
   "outputs": [
    {
     "name": "stdout",
     "output_type": "stream",
     "text": [
      "Populating the interactive namespace from numpy and matplotlib\n"
     ]
    }
   ],
   "source": [
    "import pandas as pd\n",
    "import numpy as py\n",
    "import matplotlib.pyplot as plt\n",
    "from scipy.stats.stats import pearsonr\n",
    "%pylab inline"
   ]
  },
  {
   "cell_type": "code",
   "execution_count": 30,
   "metadata": {
    "collapsed": false
   },
   "outputs": [],
   "source": [
    "data = open(\"desktop/iris.data\",\"r\")"
   ]
  },
  {
   "cell_type": "markdown",
   "metadata": {},
   "source": [
    "Define a function to read the data with formatting."
   ]
  },
  {
   "cell_type": "code",
   "execution_count": 31,
   "metadata": {
    "collapsed": false
   },
   "outputs": [],
   "source": [
    "def read(data):\n",
    "    counter=0\n",
    "    list1 = []\n",
    "    for i in data:\n",
    "        print i\n",
    "        j = i.rstrip(\"\\n\")\n",
    "        print type(j)\n",
    "        j.split(\",\")\n",
    "        list1.append(j.split(\",\"))\n",
    "        counter+=1\n",
    "    del(list1[counter-1])\n",
    "    return list1"
   ]
  },
  {
   "cell_type": "markdown",
   "metadata": {},
   "source": [
    "Define a function to look at basic statistics on different kinds of flowers."
   ]
  },
  {
   "cell_type": "code",
   "execution_count": 33,
   "metadata": {
    "collapsed": false
   },
   "outputs": [],
   "source": [
    "def attribute(list):\n",
    "    sepallength = map(double, [row[0] for row in list])\n",
    "    mean1 = py.mean(sepallength)\n",
    "    median1 = py.median(sepallength)\n",
    "    std1 = py.std(sepallength)\n",
    "    max1 = py.max(sepallength)\n",
    "    min1 = py.min(sepallength)\n",
    "    \n",
    "    sepalwidth = map(double, [row[1] for row in list])\n",
    "    mean2 = py.mean(sepalwidth)\n",
    "    median2 = py.median(sepalwidth)\n",
    "    std2 = py.std(sepalwidth)\n",
    "    max2 = py.max(sepalwidth)\n",
    "    min2 = py.min(sepalwidth)\n",
    "    \n",
    "    petallength = map(double, [row[2] for row in list])\n",
    "    mean3 = py.mean(petallength)\n",
    "    median3 = py.median(petallength)\n",
    "    std3 = py.std(petallength)\n",
    "    max3 = py.max(petallength)\n",
    "    min3 = py.min(petallength)\n",
    "    \n",
    "    petalwidth = map(double, [row[3] for row in list])\n",
    "    mean4 = py.mean(petalwidth)\n",
    "    median4 = py.median(petalwidth)\n",
    "    std4 = py.std(petalwidth)\n",
    "    max4 = py.max(petalwidth)\n",
    "    min4 = py.min(petalwidth) \n",
    "\n",
    "  \n",
    "    data = {'Sepal length': [mean1,median1,std1,max1,min1],\n",
    "            'Sepal width': [mean2,median2,std2,max2,min2],\n",
    "            'Petal length': [mean3,median3,std3,max3,min3],\n",
    "            'Petal width': [mean4,median4,std4,max4,min4]}\n",
    "    frame = pd.DataFrame(data, columns=['Sepal length', 'Sepal width', 'Petal length','Petal width'])\n",
    "    return(frame)\n"
   ]
  },
  {
   "cell_type": "markdown",
   "metadata": {},
   "source": [
    "Main function to generate dataframes"
   ]
  },
  {
   "cell_type": "code",
   "execution_count": 34,
   "metadata": {
    "collapsed": false
   },
   "outputs": [],
   "source": [
    "if __name__ == \"__main__\":\n",
    "    setosa = []\n",
    "    versicolor = []\n",
    "    virginica = []\n",
    "    for i in range(0,50):\n",
    "        setosa.append(dataset[i])\n",
    "    for i in range(50,100):\n",
    "        versicolor.append(dataset[i])\n",
    "    for i in range(100,150):\n",
    "        virginica.append(dataset[i])\n",
    "    list = setosa\n",
    "    frame1 = attribute(setosa)\n",
    "    list = versicolor\n",
    "    frame2 = attribute(versicolor)\n",
    "    list = virginica\n",
    "    frame3 = attribute(virginica)\n",
    "    frame1.index = ['Mean','Median','Standard deviation', 'Max', 'Min']\n",
    "    frame2.index = ['Mean','Median','Standard deviation', 'Max', 'Min']\n",
    "    frame3.index = ['Mean','Median','Standard deviation', 'Max', 'Min']  "
   ]
  },
  {
   "cell_type": "code",
   "execution_count": 35,
   "metadata": {
    "collapsed": false,
    "scrolled": false
   },
   "outputs": [
    {
     "name": "stdout",
     "output_type": "stream",
     "text": [
      "                         Iris-setosa\n"
     ]
    },
    {
     "data": {
      "text/html": [
       "<div>\n",
       "<table border=\"1\" class=\"dataframe\">\n",
       "  <thead>\n",
       "    <tr style=\"text-align: right;\">\n",
       "      <th></th>\n",
       "      <th>Sepal length</th>\n",
       "      <th>Sepal width</th>\n",
       "      <th>Petal length</th>\n",
       "      <th>Petal width</th>\n",
       "    </tr>\n",
       "  </thead>\n",
       "  <tbody>\n",
       "    <tr>\n",
       "      <th>Mean</th>\n",
       "      <td>5.006000</td>\n",
       "      <td>3.428000</td>\n",
       "      <td>1.462000</td>\n",
       "      <td>0.246000</td>\n",
       "    </tr>\n",
       "    <tr>\n",
       "      <th>Median</th>\n",
       "      <td>5.000000</td>\n",
       "      <td>3.400000</td>\n",
       "      <td>1.500000</td>\n",
       "      <td>0.200000</td>\n",
       "    </tr>\n",
       "    <tr>\n",
       "      <th>Standard deviation</th>\n",
       "      <td>0.348947</td>\n",
       "      <td>0.375255</td>\n",
       "      <td>0.171919</td>\n",
       "      <td>0.104326</td>\n",
       "    </tr>\n",
       "    <tr>\n",
       "      <th>Max</th>\n",
       "      <td>5.800000</td>\n",
       "      <td>4.400000</td>\n",
       "      <td>1.900000</td>\n",
       "      <td>0.600000</td>\n",
       "    </tr>\n",
       "    <tr>\n",
       "      <th>Min</th>\n",
       "      <td>4.300000</td>\n",
       "      <td>2.300000</td>\n",
       "      <td>1.000000</td>\n",
       "      <td>0.100000</td>\n",
       "    </tr>\n",
       "  </tbody>\n",
       "</table>\n",
       "</div>"
      ],
      "text/plain": [
       "                    Sepal length  Sepal width  Petal length  Petal width\n",
       "Mean                    5.006000     3.428000      1.462000     0.246000\n",
       "Median                  5.000000     3.400000      1.500000     0.200000\n",
       "Standard deviation      0.348947     0.375255      0.171919     0.104326\n",
       "Max                     5.800000     4.400000      1.900000     0.600000\n",
       "Min                     4.300000     2.300000      1.000000     0.100000"
      ]
     },
     "execution_count": 35,
     "metadata": {},
     "output_type": "execute_result"
    }
   ],
   "source": [
    "print '                         Iris-setosa'\n",
    "frame1"
   ]
  },
  {
   "cell_type": "code",
   "execution_count": 36,
   "metadata": {
    "collapsed": false
   },
   "outputs": [
    {
     "name": "stdout",
     "output_type": "stream",
     "text": [
      "                       Iris-versicolor\n"
     ]
    },
    {
     "data": {
      "text/html": [
       "<div>\n",
       "<table border=\"1\" class=\"dataframe\">\n",
       "  <thead>\n",
       "    <tr style=\"text-align: right;\">\n",
       "      <th></th>\n",
       "      <th>Sepal length</th>\n",
       "      <th>Sepal width</th>\n",
       "      <th>Petal length</th>\n",
       "      <th>Petal width</th>\n",
       "    </tr>\n",
       "  </thead>\n",
       "  <tbody>\n",
       "    <tr>\n",
       "      <th>Mean</th>\n",
       "      <td>5.936000</td>\n",
       "      <td>2.770000</td>\n",
       "      <td>4.260000</td>\n",
       "      <td>1.326000</td>\n",
       "    </tr>\n",
       "    <tr>\n",
       "      <th>Median</th>\n",
       "      <td>5.900000</td>\n",
       "      <td>2.800000</td>\n",
       "      <td>4.350000</td>\n",
       "      <td>1.300000</td>\n",
       "    </tr>\n",
       "    <tr>\n",
       "      <th>Standard deviation</th>\n",
       "      <td>0.510983</td>\n",
       "      <td>0.310644</td>\n",
       "      <td>0.465188</td>\n",
       "      <td>0.195765</td>\n",
       "    </tr>\n",
       "    <tr>\n",
       "      <th>Max</th>\n",
       "      <td>7.000000</td>\n",
       "      <td>3.400000</td>\n",
       "      <td>5.100000</td>\n",
       "      <td>1.800000</td>\n",
       "    </tr>\n",
       "    <tr>\n",
       "      <th>Min</th>\n",
       "      <td>4.900000</td>\n",
       "      <td>2.000000</td>\n",
       "      <td>3.000000</td>\n",
       "      <td>1.000000</td>\n",
       "    </tr>\n",
       "  </tbody>\n",
       "</table>\n",
       "</div>"
      ],
      "text/plain": [
       "                    Sepal length  Sepal width  Petal length  Petal width\n",
       "Mean                    5.936000     2.770000      4.260000     1.326000\n",
       "Median                  5.900000     2.800000      4.350000     1.300000\n",
       "Standard deviation      0.510983     0.310644      0.465188     0.195765\n",
       "Max                     7.000000     3.400000      5.100000     1.800000\n",
       "Min                     4.900000     2.000000      3.000000     1.000000"
      ]
     },
     "execution_count": 36,
     "metadata": {},
     "output_type": "execute_result"
    }
   ],
   "source": [
    "print '                       Iris-versicolor'\n",
    "frame2"
   ]
  },
  {
   "cell_type": "code",
   "execution_count": 37,
   "metadata": {
    "collapsed": false
   },
   "outputs": [
    {
     "name": "stdout",
     "output_type": "stream",
     "text": [
      "                       Iris-virginica\n"
     ]
    },
    {
     "data": {
      "text/html": [
       "<div>\n",
       "<table border=\"1\" class=\"dataframe\">\n",
       "  <thead>\n",
       "    <tr style=\"text-align: right;\">\n",
       "      <th></th>\n",
       "      <th>Sepal length</th>\n",
       "      <th>Sepal width</th>\n",
       "      <th>Petal length</th>\n",
       "      <th>Petal width</th>\n",
       "    </tr>\n",
       "  </thead>\n",
       "  <tbody>\n",
       "    <tr>\n",
       "      <th>Mean</th>\n",
       "      <td>6.588000</td>\n",
       "      <td>2.974000</td>\n",
       "      <td>5.552000</td>\n",
       "      <td>2.02600</td>\n",
       "    </tr>\n",
       "    <tr>\n",
       "      <th>Median</th>\n",
       "      <td>6.500000</td>\n",
       "      <td>3.000000</td>\n",
       "      <td>5.550000</td>\n",
       "      <td>2.00000</td>\n",
       "    </tr>\n",
       "    <tr>\n",
       "      <th>Standard deviation</th>\n",
       "      <td>0.629489</td>\n",
       "      <td>0.319255</td>\n",
       "      <td>0.546348</td>\n",
       "      <td>0.27189</td>\n",
       "    </tr>\n",
       "    <tr>\n",
       "      <th>Max</th>\n",
       "      <td>7.900000</td>\n",
       "      <td>3.800000</td>\n",
       "      <td>6.900000</td>\n",
       "      <td>2.50000</td>\n",
       "    </tr>\n",
       "    <tr>\n",
       "      <th>Min</th>\n",
       "      <td>4.900000</td>\n",
       "      <td>2.200000</td>\n",
       "      <td>4.500000</td>\n",
       "      <td>1.40000</td>\n",
       "    </tr>\n",
       "  </tbody>\n",
       "</table>\n",
       "</div>"
      ],
      "text/plain": [
       "                    Sepal length  Sepal width  Petal length  Petal width\n",
       "Mean                    6.588000     2.974000      5.552000      2.02600\n",
       "Median                  6.500000     3.000000      5.550000      2.00000\n",
       "Standard deviation      0.629489     0.319255      0.546348      0.27189\n",
       "Max                     7.900000     3.800000      6.900000      2.50000\n",
       "Min                     4.900000     2.200000      4.500000      1.40000"
      ]
     },
     "execution_count": 37,
     "metadata": {},
     "output_type": "execute_result"
    }
   ],
   "source": [
    "print '                       Iris-virginica'\n",
    "frame3"
   ]
  },
  {
   "cell_type": "markdown",
   "metadata": {},
   "source": [
    "Basic scatter plots."
   ]
  },
  {
   "cell_type": "code",
   "execution_count": 38,
   "metadata": {
    "collapsed": false
   },
   "outputs": [
    {
     "data": {
      "image/png": "[encoded data removed]",
      "text/plain": [
       "<matplotlib.figure.Figure at 0x108f8ae50>"
      ]
     },
     "metadata": {},
     "output_type": "display_data"
    }
   ],
   "source": [
    "slsetosa = map(double,[row[0] for row in setosa])\n",
    "swsetosa = map(double,[row[1] for row in setosa])\n",
    "slversicolor = map(double,[row[0] for row in versicolor])\n",
    "swversicolor = map(double,[row[1] for row in versicolor])\n",
    "slvirginica = map(double,[row[0] for row in virginica])\n",
    "swvirginica = map(double,[row[1] for row in virginica])\n",
    "plt.scatter(slsetosa,swsetosa,color = 'r')\n",
    "plt.scatter(slversicolor,swversicolor,color = 'b')\n",
    "plt.scatter(slvirginica,swvirginica,color = 'g')\n",
    "plt.title(\"Scatter Plot of Sepal Attributes among Three Plants\")\n",
    "plt.xlabel(\"Sepal Length\")\n",
    "plt.ylabel(\"Sepal Width\")\n",
    "plt.show()"
   ]
  },
  {
   "cell_type": "code",
   "execution_count": 39,
   "metadata": {
    "collapsed": false
   },
   "outputs": [
    {
     "data": {
      "image/png": "[encoded data removed]",
      "text/plain": [
       "<matplotlib.figure.Figure at 0x108e07350>"
      ]
     },
     "metadata": {},
     "output_type": "display_data"
    }
   ],
   "source": [
    "plsetosa = map(double,[row[2] for row in setosa])\n",
    "pwsetosa = map(double,[row[3] for row in setosa])\n",
    "plversicolor = map(double,[row[2] for row in versicolor])\n",
    "pwversicolor = map(double,[row[3] for row in versicolor])\n",
    "plvirginica = map(double,[row[2] for row in virginica])\n",
    "pwvirginica = map(double,[row[3] for row in virginica])\n",
    "plt.scatter(plsetosa,pwsetosa,color = 'r')\n",
    "plt.scatter(plversicolor,pwversicolor,color = 'b')\n",
    "plt.scatter(plvirginica,pwvirginica,color = 'g')\n",
    "plt.title(\"Scatter Plot of Petal Attributes among Three Plants\")\n",
    "plt.xlabel(\"Petal Length\")\n",
    "plt.ylabel(\"Petal Width\")\n",
    "plt.show()\n"
   ]
  },
  {
   "cell_type": "code",
   "execution_count": 40,
   "metadata": {
    "collapsed": false
   },
   "outputs": [
    {
     "data": {
      "image/png": "[encoded data removed]",
      "text/plain": [
       "<matplotlib.figure.Figure at 0x108f0fc90>"
      ]
     },
     "metadata": {},
     "output_type": "display_data"
    }
   ],
   "source": [
    "slsetosa = map(double,[row[0] for row in setosa])\n",
    "plsetosa = map(double,[row[2] for row in setosa])\n",
    "slversicolor = map(double,[row[0] for row in versicolor])\n",
    "plversicolor = map(double,[row[2] for row in versicolor])\n",
    "slvirginica = map(double,[row[0] for row in virginica])\n",
    "plvirginica = map(double,[row[2] for row in virginica])\n",
    "plt.scatter(slsetosa,plsetosa,color = 'r')\n",
    "plt.scatter(slversicolor,plversicolor,color = 'b')\n",
    "plt.scatter(slvirginica,plvirginica,color = 'g')\n",
    "plt.title(\"Scatter Plot of Comparison between Sepal and Petal Length\")\n",
    "plt.xlabel(\"Sepal Length\")\n",
    "plt.ylabel(\"Petal Length\")\n",
    "plt.show()\n"
   ]
  },
  {
   "cell_type": "code",
   "execution_count": 41,
   "metadata": {
    "collapsed": false
   },
   "outputs": [
    {
     "data": {
      "image/png": "[encoded data removed]",
      "text/plain": [
       "<matplotlib.figure.Figure at 0x108af4290>"
      ]
     },
     "metadata": {},
     "output_type": "display_data"
    }
   ],
   "source": [
    "swsetosa = map(double,[row[1] for row in setosa])\n",
    "pwsetosa = map(double,[row[3] for row in setosa])\n",
    "swversicolor = map(double,[row[1] for row in versicolor])\n",
    "pwversicolor = map(double,[row[3] for row in versicolor])\n",
    "swvirginica = map(double,[row[1] for row in virginica])\n",
    "pwvirginica = map(double,[row[3] for row in virginica])\n",
    "plt.scatter(swsetosa,pwsetosa,color = 'r')\n",
    "plt.scatter(swversicolor,pwversicolor,color = 'b')\n",
    "plt.scatter(swvirginica,pwvirginica,color = 'g')\n",
    "plt.title(\"Scatter Plot of Comparison between Sepal and Petal Width\")\n",
    "plt.xlabel(\"Sepal Width\")\n",
    "plt.ylabel(\"Petal Width\")\n",
    "plt.show()"
   ]
  },
  {
   "cell_type": "markdown",
   "metadata": {},
   "source": [
    "Correlations between attributes"
   ]
  },
  {
   "cell_type": "code",
   "execution_count": 42,
   "metadata": {
    "collapsed": false
   },
   "outputs": [
    {
     "name": "stdout",
     "output_type": "stream",
     "text": [
      "Correlation between petal length and petal width among three plants is 0.962865431403\n",
      "Correlation between petal length and petal width for setosa is 0.331630040804\n",
      "Correlation between petal length and petal width for versicolor is 0.786668088523\n",
      "Correlation between petal length and petal width for virginica is 0.3221082159\n",
      "Correlation between petal length and sepal length among three flowers is 0.871753775887\n",
      "Correlation between petal length and sepal length for setosa is 0.267175758869\n",
      "Correlation between petal length and sepal length for versicolor is 0.754048958592\n",
      "Correlation between petal length and sepal length for virginica is 0.864224732936\n"
     ]
    }
   ],
   "source": [
    "list1=plsetosa+plversicolor+plvirginica\n",
    "list2=pwsetosa+pwversicolor+pwvirginica\n",
    "list3=slsetosa+slversicolor+slvirginica\n",
    "print \"Correlation between petal length and petal width among three plants is \" + str(pearsonr(list1, list2)[0])\n",
    "print \"Correlation between petal length and petal width for setosa is \" + str(pearsonr(plsetosa, pwsetosa)[0])\n",
    "print \"Correlation between petal length and petal width for versicolor is \" + str(pearsonr(plversicolor, pwversicolor)[0])\n",
    "print \"Correlation between petal length and petal width for virginica is \" + str(pearsonr(plvirginica, pwvirginica)[0])\n",
    "print \"Correlation between petal length and sepal length among three flowers is \" + str(pearsonr(list1,list3)[0])\n",
    "print \"Correlation between petal length and sepal length for setosa is \" + str(pearsonr(plsetosa,slsetosa)[0])\n",
    "print \"Correlation between petal length and sepal length for versicolor is \" + str(pearsonr(plversicolor,slversicolor)[0])\n",
    "print \"Correlation between petal length and sepal length for virginica is \" + str(pearsonr(plvirginica,slvirginica)[0])\n",
    "\n"
   ]
  },
  {
   "cell_type": "code",
   "execution_count": null,
   "metadata": {
    "collapsed": true
   },
   "outputs": [],
   "source": []
  }
 ],
 "metadata": {
  "anaconda-cloud": {},
  "celltoolbar": "Raw Cell Format",
  "kernelspec": {
   "display_name": "Python [conda env:python2]",
   "language": "python",
   "name": "conda-env-python2-py"
  },
  "language_info": {
   "codemirror_mode": {
    "name": "ipython",
    "version": 2
   },
   "file_extension": ".py",
   "mimetype": "text/x-python",
   "name": "python",
   "nbconvert_exporter": "python",
   "pygments_lexer": "ipython2",
   "version": "2.7.12"
  }
 },
 "nbformat": 4,
 "nbformat_minor": 0
}
